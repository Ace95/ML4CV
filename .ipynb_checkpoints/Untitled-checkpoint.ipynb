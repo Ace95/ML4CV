{
 "cells": [
  {
   "cell_type": "code",
   "execution_count": 37,
   "id": "61b81f30",
   "metadata": {},
   "outputs": [],
   "source": [
    "from hashlib import new\n",
    "from operator import ne\n",
    "import pandas as pd\n",
    "\n"
   ]
  },
  {
   "cell_type": "code",
   "execution_count": 38,
   "id": "b7fd6584",
   "metadata": {},
   "outputs": [],
   "source": [
    "df = pd.read_csv(\"C:/Users/User/Documents/Corsi Uni/ML4CV/Exam/HAM10000_metadata.csv\", dtype=str)"
   ]
  },
  {
   "cell_type": "code",
   "execution_count": 39,
   "id": "3348f18f",
   "metadata": {},
   "outputs": [
    {
     "name": "stdout",
     "output_type": "stream",
     "text": [
      "         lesion_id          image_id     dx dx_type   age     sex  \\\n",
      "0      HAM_0000118  ISIC_0027419.jpg    bkl   histo  80.0    male   \n",
      "1      HAM_0000118  ISIC_0025030.jpg    bkl   histo  80.0    male   \n",
      "2      HAM_0002730  ISIC_0026769.jpg    bkl   histo  80.0    male   \n",
      "3      HAM_0002730  ISIC_0025661.jpg    bkl   histo  80.0    male   \n",
      "4      HAM_0001466  ISIC_0031633.jpg    bkl   histo  75.0    male   \n",
      "...            ...               ...    ...     ...   ...     ...   \n",
      "10010  HAM_0002867  ISIC_0033084.jpg  akiec   histo  40.0    male   \n",
      "10011  HAM_0002867  ISIC_0033550.jpg  akiec   histo  40.0    male   \n",
      "10012  HAM_0002867  ISIC_0033536.jpg  akiec   histo  40.0    male   \n",
      "10013  HAM_0000239  ISIC_0032854.jpg  akiec   histo  80.0    male   \n",
      "10014  HAM_0003521  ISIC_0032258.jpg    mel   histo  70.0  female   \n",
      "\n",
      "      localization       dataset  \n",
      "0            scalp  vidir_modern  \n",
      "1            scalp  vidir_modern  \n",
      "2            scalp  vidir_modern  \n",
      "3            scalp  vidir_modern  \n",
      "4              ear  vidir_modern  \n",
      "...            ...           ...  \n",
      "10010      abdomen  vidir_modern  \n",
      "10011      abdomen  vidir_modern  \n",
      "10012      abdomen  vidir_modern  \n",
      "10013         face  vidir_modern  \n",
      "10014         back  vidir_modern  \n",
      "\n",
      "[10015 rows x 8 columns]\n"
     ]
    }
   ],
   "source": [
    "print(df)"
   ]
  },
  {
   "cell_type": "code",
   "execution_count": 48,
   "id": "c985c483",
   "metadata": {},
   "outputs": [],
   "source": [
    "df.set_index(\"dx\", inplace=True, drop=False)"
   ]
  },
  {
   "cell_type": "code",
   "execution_count": 49,
   "id": "5ca60aaf",
   "metadata": {},
   "outputs": [
    {
     "name": "stdout",
     "output_type": "stream",
     "text": [
      "         lesion_id          image_id     dx dx_type   age     sex  \\\n",
      "dx                                                                  \n",
      "bkl    HAM_0000118  ISIC_0027419.jpg    bkl   histo  80.0    male   \n",
      "bkl    HAM_0000118  ISIC_0025030.jpg    bkl   histo  80.0    male   \n",
      "bkl    HAM_0002730  ISIC_0026769.jpg    bkl   histo  80.0    male   \n",
      "bkl    HAM_0002730  ISIC_0025661.jpg    bkl   histo  80.0    male   \n",
      "bkl    HAM_0001466  ISIC_0031633.jpg    bkl   histo  75.0    male   \n",
      "...            ...               ...    ...     ...   ...     ...   \n",
      "akiec  HAM_0002867  ISIC_0033084.jpg  akiec   histo  40.0    male   \n",
      "akiec  HAM_0002867  ISIC_0033550.jpg  akiec   histo  40.0    male   \n",
      "akiec  HAM_0002867  ISIC_0033536.jpg  akiec   histo  40.0    male   \n",
      "akiec  HAM_0000239  ISIC_0032854.jpg  akiec   histo  80.0    male   \n",
      "mel    HAM_0003521  ISIC_0032258.jpg    mel   histo  70.0  female   \n",
      "\n",
      "      localization       dataset  \n",
      "dx                                \n",
      "bkl          scalp  vidir_modern  \n",
      "bkl          scalp  vidir_modern  \n",
      "bkl          scalp  vidir_modern  \n",
      "bkl          scalp  vidir_modern  \n",
      "bkl            ear  vidir_modern  \n",
      "...            ...           ...  \n",
      "akiec      abdomen  vidir_modern  \n",
      "akiec      abdomen  vidir_modern  \n",
      "akiec      abdomen  vidir_modern  \n",
      "akiec         face  vidir_modern  \n",
      "mel           back  vidir_modern  \n",
      "\n",
      "[10015 rows x 8 columns]\n"
     ]
    }
   ],
   "source": [
    "print(df)\n"
   ]
  },
  {
   "cell_type": "code",
   "execution_count": 50,
   "id": "f4abd6e0",
   "metadata": {},
   "outputs": [
    {
     "name": "stdout",
     "output_type": "stream",
     "text": [
      "         lesion_id          image_id     dx dx_type   age     sex  \\\n",
      "dx                                                                  \n",
      "akiec  HAM_0002644  ISIC_0029417.jpg  akiec   histo  80.0  female   \n",
      "akiec  HAM_0006002  ISIC_0029915.jpg  akiec   histo  50.0  female   \n",
      "akiec  HAM_0000549  ISIC_0029360.jpg  akiec   histo  70.0    male   \n",
      "akiec  HAM_0000549  ISIC_0026152.jpg  akiec   histo  70.0    male   \n",
      "akiec  HAM_0000673  ISIC_0029659.jpg  akiec   histo  70.0  female   \n",
      "...            ...               ...    ...     ...   ...     ...   \n",
      "akiec  HAM_0005705  ISIC_0031430.jpg  akiec   histo  75.0  female   \n",
      "akiec  HAM_0002867  ISIC_0033084.jpg  akiec   histo  40.0    male   \n",
      "akiec  HAM_0002867  ISIC_0033550.jpg  akiec   histo  40.0    male   \n",
      "akiec  HAM_0002867  ISIC_0033536.jpg  akiec   histo  40.0    male   \n",
      "akiec  HAM_0000239  ISIC_0032854.jpg  akiec   histo  80.0    male   \n",
      "\n",
      "          localization       dataset  \n",
      "dx                                    \n",
      "akiec             neck  vidir_modern  \n",
      "akiec             face  vidir_modern  \n",
      "akiec  upper extremity  vidir_modern  \n",
      "akiec  upper extremity  vidir_modern  \n",
      "akiec             face     rosendahl  \n",
      "...                ...           ...  \n",
      "akiec  lower extremity  vidir_modern  \n",
      "akiec          abdomen  vidir_modern  \n",
      "akiec          abdomen  vidir_modern  \n",
      "akiec          abdomen  vidir_modern  \n",
      "akiec             face  vidir_modern  \n",
      "\n",
      "[327 rows x 8 columns]\n"
     ]
    }
   ],
   "source": [
    "akiec_df = df.loc[\"akiec\"]\n",
    "print(akiec_df)"
   ]
  },
  {
   "cell_type": "code",
   "execution_count": 51,
   "id": "e2d60d6b",
   "metadata": {},
   "outputs": [],
   "source": [
    "import cv2\n",
    "import csv"
   ]
  },
  {
   "cell_type": "code",
   "execution_count": 55,
   "id": "0665843a",
   "metadata": {},
   "outputs": [],
   "source": [
    "nameList = []\n",
    "for i in range(0,327):\n",
    "    filename = \"C:/Users/User/Documents/Corsi Uni/ML4CV/Exam/Images/\" + akiec_df.iloc[i,1]\n",
    "    img = cv2.imread(filename)\n",
    "    rotated_img = cv2.rotate(img, cv2.ROTATE_180)\n",
    "    newname = \"C:/Users/User/Documents/Corsi Uni/ML4CV/Exam/Rotated/\"+ \"ROT\" + \"_\" + akiec_df.iloc[i,1] \n",
    "    cv2.imwrite(newname,rotated_img)\n",
    "    nameList.append\"ROT\" + \"_\" + akiec_df.iloc[i,1] + akiec_df.iloc[i,2:7])\n",
    "\n",
    "    "
   ]
  },
  {
   "cell_type": "code",
   "execution_count": 56,
   "id": "e0332991",
   "metadata": {},
   "outputs": [],
   "source": [
    "file = open('C:/Users/User/Documents/Corsi Uni/ML4CV/Exam/newimgs.csv', 'w+', newline ='')\n",
    "\n",
    "with file:\n",
    "    write = csv.writer(file)\n",
    "    write.writerows(nameList)"
   ]
  },
  {
   "cell_type": "code",
   "execution_count": 52,
   "id": "70f2a72b",
   "metadata": {},
   "outputs": [
    {
     "name": "stdout",
     "output_type": "stream",
     "text": [
      "               image_id     dx dx_type   age     sex     localization\n",
      "dx                                                                   \n",
      "akiec  ISIC_0029417.jpg  akiec   histo  80.0  female             neck\n",
      "akiec  ISIC_0029915.jpg  akiec   histo  50.0  female             face\n",
      "akiec  ISIC_0029360.jpg  akiec   histo  70.0    male  upper extremity\n",
      "akiec  ISIC_0026152.jpg  akiec   histo  70.0    male  upper extremity\n",
      "akiec  ISIC_0029659.jpg  akiec   histo  70.0  female             face\n",
      "...                 ...    ...     ...   ...     ...              ...\n",
      "akiec  ISIC_0031430.jpg  akiec   histo  75.0  female  lower extremity\n",
      "akiec  ISIC_0033084.jpg  akiec   histo  40.0    male          abdomen\n",
      "akiec  ISIC_0033550.jpg  akiec   histo  40.0    male          abdomen\n",
      "akiec  ISIC_0033536.jpg  akiec   histo  40.0    male          abdomen\n",
      "akiec  ISIC_0032854.jpg  akiec   histo  80.0    male             face\n",
      "\n",
      "[327 rows x 6 columns]\n"
     ]
    }
   ],
   "source": [
    "filename = akiec_df.iloc[0:327,1:7]\n",
    "print(filename)"
   ]
  },
  {
   "cell_type": "code",
   "execution_count": null,
   "id": "3ff31314",
   "metadata": {},
   "outputs": [],
   "source": [
    "\n"
   ]
  },
  {
   "cell_type": "code",
   "execution_count": null,
   "id": "b156e115",
   "metadata": {},
   "outputs": [],
   "source": []
  }
 ],
 "metadata": {
  "kernelspec": {
   "display_name": "Python 3 (ipykernel)",
   "language": "python",
   "name": "python3"
  },
  "language_info": {
   "codemirror_mode": {
    "name": "ipython",
    "version": 3
   },
   "file_extension": ".py",
   "mimetype": "text/x-python",
   "name": "python",
   "nbconvert_exporter": "python",
   "pygments_lexer": "ipython3",
   "version": "3.9.12"
  }
 },
 "nbformat": 4,
 "nbformat_minor": 5
}
