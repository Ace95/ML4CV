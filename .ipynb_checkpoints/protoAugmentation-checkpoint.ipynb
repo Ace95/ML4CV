{
 "cells": [
  {
   "cell_type": "code",
   "execution_count": 1,
   "id": "61b81f30",
   "metadata": {},
   "outputs": [],
   "source": [
    "from hashlib import new\n",
    "from operator import ne\n",
    "import pandas as pd\n",
    "\n"
   ]
  },
  {
   "cell_type": "code",
   "execution_count": 2,
   "id": "b7fd6584",
   "metadata": {},
   "outputs": [],
   "source": [
    "df = pd.read_csv(\"C:/Users/User/Documents/Corsi Uni/ML4CV/Exam/HAM10000_metadata.csv\", dtype=str)"
   ]
  },
  {
   "cell_type": "code",
   "execution_count": 3,
   "id": "3348f18f",
   "metadata": {},
   "outputs": [
    {
     "name": "stdout",
     "output_type": "stream",
     "text": [
      "         lesion_id                image_id    dx    dx_type   age     sex  \\\n",
      "0      HAM_0000118        ISIC_0027419.jpg   bkl      histo  80.0    male   \n",
      "1      HAM_0000118        ISIC_0025030.jpg   bkl      histo  80.0    male   \n",
      "2      HAM_0002730        ISIC_0026769.jpg   bkl      histo  80.0    male   \n",
      "3      HAM_0002730        ISIC_0025661.jpg   bkl      histo  80.0    male   \n",
      "4      HAM_0001466        ISIC_0031633.jpg   bkl      histo  75.0    male   \n",
      "...            ...                     ...   ...        ...   ...     ...   \n",
      "18827            1  SPECB_ISIC_0025680.jpg  vasc  consensus  55.0  female   \n",
      "18828            1  SPECB_ISIC_0026068.jpg  vasc  consensus  55.0  female   \n",
      "18829            1  SPECB_ISIC_0025452.jpg  vasc  consensus  55.0  female   \n",
      "18830            1  SPECB_ISIC_0026349.jpg  vasc  consensus  60.0  female   \n",
      "18831            1  SPECB_ISIC_0027269.jpg  vasc  consensus  60.0  female   \n",
      "\n",
      "      localization       dataset  \n",
      "0            scalp  vidir_modern  \n",
      "1            scalp  vidir_modern  \n",
      "2            scalp  vidir_modern  \n",
      "3            scalp  vidir_modern  \n",
      "4              ear  vidir_modern  \n",
      "...            ...           ...  \n",
      "18827        trunk           NaN  \n",
      "18828      abdomen           NaN  \n",
      "18829      abdomen           NaN  \n",
      "18830        trunk           NaN  \n",
      "18831        trunk           NaN  \n",
      "\n",
      "[18832 rows x 8 columns]\n"
     ]
    }
   ],
   "source": [
    "print(df)"
   ]
  },
  {
   "cell_type": "code",
   "execution_count": 4,
   "id": "c985c483",
   "metadata": {},
   "outputs": [],
   "source": [
    "df.set_index(\"dx\", inplace=True, drop=False)"
   ]
  },
  {
   "cell_type": "code",
   "execution_count": 5,
   "id": "5ca60aaf",
   "metadata": {},
   "outputs": [
    {
     "name": "stdout",
     "output_type": "stream",
     "text": [
      "        lesion_id                image_id    dx    dx_type   age     sex  \\\n",
      "dx                                                                         \n",
      "bkl   HAM_0000118        ISIC_0027419.jpg   bkl      histo  80.0    male   \n",
      "bkl   HAM_0000118        ISIC_0025030.jpg   bkl      histo  80.0    male   \n",
      "bkl   HAM_0002730        ISIC_0026769.jpg   bkl      histo  80.0    male   \n",
      "bkl   HAM_0002730        ISIC_0025661.jpg   bkl      histo  80.0    male   \n",
      "bkl   HAM_0001466        ISIC_0031633.jpg   bkl      histo  75.0    male   \n",
      "...           ...                     ...   ...        ...   ...     ...   \n",
      "vasc            1  SPECB_ISIC_0025680.jpg  vasc  consensus  55.0  female   \n",
      "vasc            1  SPECB_ISIC_0026068.jpg  vasc  consensus  55.0  female   \n",
      "vasc            1  SPECB_ISIC_0025452.jpg  vasc  consensus  55.0  female   \n",
      "vasc            1  SPECB_ISIC_0026349.jpg  vasc  consensus  60.0  female   \n",
      "vasc            1  SPECB_ISIC_0027269.jpg  vasc  consensus  60.0  female   \n",
      "\n",
      "     localization       dataset  \n",
      "dx                               \n",
      "bkl         scalp  vidir_modern  \n",
      "bkl         scalp  vidir_modern  \n",
      "bkl         scalp  vidir_modern  \n",
      "bkl         scalp  vidir_modern  \n",
      "bkl           ear  vidir_modern  \n",
      "...           ...           ...  \n",
      "vasc        trunk           NaN  \n",
      "vasc      abdomen           NaN  \n",
      "vasc      abdomen           NaN  \n",
      "vasc        trunk           NaN  \n",
      "vasc        trunk           NaN  \n",
      "\n",
      "[18832 rows x 8 columns]\n"
     ]
    }
   ],
   "source": [
    "print(df)\n"
   ]
  },
  {
   "cell_type": "code",
   "execution_count": 5,
   "id": "f4abd6e0",
   "metadata": {},
   "outputs": [
    {
     "name": "stdout",
     "output_type": "stream",
     "text": [
      "1308\n"
     ]
    }
   ],
   "source": [
    "akiec_df = df.loc[\"akiec\"]\n",
    "print(len(akiec_df))"
   ]
  },
  {
   "cell_type": "code",
   "execution_count": 6,
   "id": "e2d60d6b",
   "metadata": {},
   "outputs": [],
   "source": [
    "import cv2\n",
    "import csv"
   ]
  },
  {
   "cell_type": "code",
   "execution_count": 8,
   "id": "0665843a",
   "metadata": {},
   "outputs": [
    {
     "ename": "KeyboardInterrupt",
     "evalue": "",
     "output_type": "error",
     "traceback": [
      "\u001b[1;31m---------------------------------------------------------------------------\u001b[0m",
      "\u001b[1;31mKeyboardInterrupt\u001b[0m                         Traceback (most recent call last)",
      "Input \u001b[1;32mIn [8]\u001b[0m, in \u001b[0;36m<cell line: 2>\u001b[1;34m()\u001b[0m\n\u001b[0;32m      2\u001b[0m \u001b[38;5;28;01mfor\u001b[39;00m i \u001b[38;5;129;01min\u001b[39;00m \u001b[38;5;28mrange\u001b[39m(\u001b[38;5;241m0\u001b[39m,\u001b[38;5;28mlen\u001b[39m(akiec_df)):\n\u001b[0;32m      3\u001b[0m     filename \u001b[38;5;241m=\u001b[39m \u001b[38;5;124m\"\u001b[39m\u001b[38;5;124mC:/Users/User/Documents/Corsi Uni/ML4CV/Exam/Images/\u001b[39m\u001b[38;5;124m\"\u001b[39m \u001b[38;5;241m+\u001b[39m akiec_df\u001b[38;5;241m.\u001b[39miloc[i,\u001b[38;5;241m1\u001b[39m]\n\u001b[1;32m----> 4\u001b[0m     img \u001b[38;5;241m=\u001b[39m \u001b[43mcv2\u001b[49m\u001b[38;5;241;43m.\u001b[39;49m\u001b[43mimread\u001b[49m\u001b[43m(\u001b[49m\u001b[43mfilename\u001b[49m\u001b[43m)\u001b[49m\n\u001b[0;32m      5\u001b[0m     rotated_img \u001b[38;5;241m=\u001b[39m cv2\u001b[38;5;241m.\u001b[39mrotate(img, cv2\u001b[38;5;241m.\u001b[39mROTATE_180)\n\u001b[0;32m      6\u001b[0m     newname \u001b[38;5;241m=\u001b[39m \u001b[38;5;124m\"\u001b[39m\u001b[38;5;124mC:/Users/User/Documents/Corsi Uni/ML4CV/Exam/Rotated/\u001b[39m\u001b[38;5;124m\"\u001b[39m\u001b[38;5;241m+\u001b[39m \u001b[38;5;124m\"\u001b[39m\u001b[38;5;124mROT\u001b[39m\u001b[38;5;124m\"\u001b[39m \u001b[38;5;241m+\u001b[39m \u001b[38;5;124m\"\u001b[39m\u001b[38;5;124m_\u001b[39m\u001b[38;5;124m\"\u001b[39m \u001b[38;5;241m+\u001b[39m akiec_df\u001b[38;5;241m.\u001b[39miloc[i,\u001b[38;5;241m1\u001b[39m] \n",
      "\u001b[1;31mKeyboardInterrupt\u001b[0m: "
     ]
    }
   ],
   "source": [
    "nameList = []\n",
    "for i in range(0,len(akiec_df)):\n",
    "    filename = \"C:/Users/User/Documents/Corsi Uni/ML4CV/Exam/Images/\" + akiec_df.iloc[i,1]\n",
    "    img = cv2.imread(filename)\n",
    "    rotated_img = cv2.rotate(img, cv2.ROTATE_180)\n",
    "    newname = \"C:/Users/User/Documents/Corsi Uni/ML4CV/Exam/Rotated/\"+ \"ROT\" + \"_\" + akiec_df.iloc[i,1] \n",
    "    cv2.imwrite(newname,rotated_img)\n",
    "    nameList.append(akiec_df.iloc[i,1:7])\n",
    "    "
   ]
  },
  {
   "cell_type": "code",
   "execution_count": 10,
   "id": "daeb9837",
   "metadata": {},
   "outputs": [
    {
     "ename": "NameError",
     "evalue": "name 'nameList' is not defined",
     "output_type": "error",
     "traceback": [
      "\u001b[1;31m---------------------------------------------------------------------------\u001b[0m",
      "\u001b[1;31mNameError\u001b[0m                                 Traceback (most recent call last)",
      "Input \u001b[1;32mIn [10]\u001b[0m, in \u001b[0;36m<cell line: 3>\u001b[1;34m()\u001b[0m\n\u001b[0;32m      3\u001b[0m \u001b[38;5;28;01mwith\u001b[39;00m file:\n\u001b[0;32m      4\u001b[0m     write \u001b[38;5;241m=\u001b[39m csv\u001b[38;5;241m.\u001b[39mwriter(file)\n\u001b[1;32m----> 5\u001b[0m     write\u001b[38;5;241m.\u001b[39mwriterows(\u001b[43mnameList\u001b[49m)\n",
      "\u001b[1;31mNameError\u001b[0m: name 'nameList' is not defined"
     ]
    }
   ],
   "source": [
    "file = open('C:/Users/User/Documents/Corsi Uni/ML4CV/Exam/Rotated/specularimgs.csv', 'w+', newline ='')\n",
    "\n",
    "with file:\n",
    "    write = csv.writer(file)\n",
    "    write.writerows(nameList)"
   ]
  },
  {
   "cell_type": "code",
   "execution_count": null,
   "id": "c83f285d",
   "metadata": {},
   "outputs": [],
   "source": [
    "filename = \"C:/Users/User/Documents/Corsi Uni/ML4CV/Exam/Images/\" + akiec_df.iloc[0,1]\n",
    "img = cv2.imread(filename)\n",
    "cv2.imshow(\"original\",img)\n",
    "flipped_img = cv2.flip(img, 1)\n",
    "cv2.imshow(\"flipped\",flipped_img)\n",
    "spec_img = cv2.flip(img, 0)\n",
    "cv2.imshow(\"spec\",spec_img)\n",
    "rotated_img = cv2.rotate(img, cv2.ROTATE_180)\n",
    "cv2.imshow(\"rotated\",rotated_img)\n",
    "resized_img = cv2.resize(img, dsize=[120,120])\n",
    "cv2.imshow(\"resized\",resized_img)\n",
    "cv2.waitKey(0)"
   ]
  },
  {
   "cell_type": "code",
   "execution_count": 10,
   "id": "95b52cce",
   "metadata": {},
   "outputs": [
    {
     "name": "stdout",
     "output_type": "stream",
     "text": [
      "568\n"
     ]
    }
   ],
   "source": [
    "vasc_df = df.loc[\"vasc\"]\n",
    "print(len(vasc_df))"
   ]
  },
  {
   "cell_type": "code",
   "execution_count": null,
   "id": "38acaf05",
   "metadata": {},
   "outputs": [],
   "source": [
    "akiec_df[0:568][:]"
   ]
  },
  {
   "cell_type": "code",
   "execution_count": null,
   "id": "cc1d326e",
   "metadata": {},
   "outputs": [],
   "source": []
  }
 ],
 "metadata": {
  "kernelspec": {
   "display_name": "Python 3 (ipykernel)",
   "language": "python",
   "name": "python3"
  },
  "language_info": {
   "codemirror_mode": {
    "name": "ipython",
    "version": 3
   },
   "file_extension": ".py",
   "mimetype": "text/x-python",
   "name": "python",
   "nbconvert_exporter": "python",
   "pygments_lexer": "ipython3",
   "version": "3.9.12"
  }
 },
 "nbformat": 4,
 "nbformat_minor": 5
}
